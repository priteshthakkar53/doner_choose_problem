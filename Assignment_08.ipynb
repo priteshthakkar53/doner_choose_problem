{
 "cells": [
  {
   "cell_type": "code",
   "execution_count": 1,
   "metadata": {},
   "outputs": [],
   "source": [
    "# importing libraries\n",
    "import pandas as pd\n",
    "import numpy as np\n",
    "import re\n",
    "from tqdm import tqdm_notebook\n",
    "from sklearn.preprocessing import Normalizer\n",
    "import warnings\n",
    "warnings.filterwarnings('ignore')\n",
    "from sklearn.model_selection import train_test_split\n",
    "from sklearn.feature_extraction.text import CountVectorizer\n",
    "from sklearn.feature_extraction.text import TfidfVectorizer\n",
    "from scipy.sparse import hstack\n",
    "import matplotlib.pyplot as plt\n",
    "%matplotlib inline\n",
    "from sklearn.neighbors import KNeighborsClassifier\n",
    "from scipy import sparse\n",
    "import seaborn as sns\n",
    "from sklearn.metrics import roc_auc_score\n",
    "from sklearn.metrics import roc_curve\n",
    "from sklearn.metrics import auc\n",
    "from sklearn.metrics import confusion_matrix\n",
    "import scipy\n",
    "from sklearn.naive_bayes import MultinomialNB\n",
    "from prettytable import PrettyTable"
   ]
  },
  {
   "cell_type": "code",
   "execution_count": 2,
   "metadata": {},
   "outputs": [],
   "source": [
    "# sampling 100000 data points\n",
    "project_data = pd.read_csv('train_data.csv').sample(n=100000)\n",
    "resource_data = pd.read_csv('resources.csv')\n",
    "\n",
    "price_data = resource_data.groupby('id').agg({'price':'sum', 'quantity':'sum'}).reset_index()\n",
    "project_data = pd.merge(project_data, price_data, on='id', how='left')"
   ]
  },
  {
   "cell_type": "code",
   "execution_count": 3,
   "metadata": {},
   "outputs": [],
   "source": [
    "y = project_data['project_is_approved'].values\n",
    "X = project_data.drop(['project_is_approved'], axis=1)"
   ]
  },
  {
   "cell_type": "code",
   "execution_count": 4,
   "metadata": {},
   "outputs": [
    {
     "name": "stdout",
     "output_type": "stream",
     "text": [
      "(64000, 18) (64000,)\n",
      "(16000, 18) (16000,)\n",
      "(20000, 18) (20000,)\n"
     ]
    }
   ],
   "source": [
    "# train test cv split\n",
    "X_train, X_test, y_train, y_test = train_test_split(X, y, test_size=.2, stratify=y)\n",
    "X_train, X_cv, y_train, y_cv = train_test_split(X_train, y_train, test_size=.2, stratify=y_train)\n",
    "\n",
    "print(X_train.shape, y_train.shape)\n",
    "print(X_cv.shape, y_cv.shape)\n",
    "print(X_test.shape, y_test.shape)"
   ]
  },
  {
   "cell_type": "code",
   "execution_count": 5,
   "metadata": {},
   "outputs": [],
   "source": [
    "def decontracted(phrase):\n",
    "    phrase = re.sub(r\"won't\", \"will not\", phrase)\n",
    "    phrase = re.sub(r\"can\\'t\", \"can not\", phrase)\n",
    "    phrase = re.sub(r\"n\\'t\", \" not\", phrase)\n",
    "    phrase = re.sub(r\"\\'re\", \" are\", phrase)\n",
    "    phrase = re.sub(r\"\\'s\", \" is\", phrase)\n",
    "    phrase = re.sub(r\"\\'d\", \" would\", phrase)\n",
    "    phrase = re.sub(r\"\\'ll\", \" will\", phrase)\n",
    "    phrase = re.sub(r\"\\'t\", \" not\", phrase)\n",
    "    phrase = re.sub(r\"\\'ve\", \" have\", phrase)\n",
    "    phrase = re.sub(r\"\\'m\", \" am\", phrase)\n",
    "    return phrase"
   ]
  },
  {
   "cell_type": "code",
   "execution_count": 6,
   "metadata": {},
   "outputs": [],
   "source": [
    "stopwords= ['i', 'me', 'my', 'myself', 'we', 'our', 'ours', 'ourselves', 'you', \"you're\", \"you've\",\\\n",
    "            \"you'll\", \"you'd\", 'your', 'yours', 'yourself', 'yourselves', 'he', 'him', 'his', 'himself', \\\n",
    "            'she', \"she's\", 'her', 'hers', 'herself', 'it', \"it's\", 'its', 'itself', 'they', 'them', 'their',\\\n",
    "            'theirs', 'themselves', 'what', 'which', 'who', 'whom', 'this', 'that', \"that'll\", 'these', 'those', \\\n",
    "            'am', 'is', 'are', 'was', 'were', 'be', 'been', 'being', 'have', 'has', 'had', 'having', 'do', 'does', \\\n",
    "            'did', 'doing', 'a', 'an', 'the', 'and', 'but', 'if', 'or', 'because', 'as', 'until', 'while', 'of', \\\n",
    "            'at', 'by', 'for', 'with', 'about', 'against', 'between', 'into', 'through', 'during', 'before', 'after',\\\n",
    "            'above', 'below', 'to', 'from', 'up', 'down', 'in', 'out', 'on', 'off', 'over', 'under', 'again', 'further',\\\n",
    "            'then', 'once', 'here', 'there', 'when', 'where', 'why', 'how', 'all', 'any', 'both', 'each', 'few', 'more',\\\n",
    "            'most', 'other', 'some', 'such', 'only', 'own', 'same', 'so', 'than', 'too', 'very', \\\n",
    "            's', 't', 'can', 'will', 'just', 'don', \"don't\", 'should', \"should've\", 'now', 'd', 'll', 'm', 'o', 're', \\\n",
    "            've', 'y', 'ain', 'aren', \"aren't\", 'couldn', \"couldn't\", 'didn', \"didn't\", 'doesn', \"doesn't\", 'hadn',\\\n",
    "            \"hadn't\", 'hasn', \"hasn't\", 'haven', \"haven't\", 'isn', \"isn't\", 'ma', 'mightn', \"mightn't\", 'mustn',\\\n",
    "            \"mustn't\", 'needn', \"needn't\", 'shan', \"shan't\", 'shouldn', \"shouldn't\", 'wasn', \"wasn't\", 'weren', \"weren't\", \\\n",
    "            'won', \"won't\", 'wouldn', \"wouldn't\"]"
   ]
  },
  {
   "cell_type": "code",
   "execution_count": 7,
   "metadata": {},
   "outputs": [],
   "source": [
    "def preprocess_text(text):\n",
    "    preprocessed_text = []\n",
    "    for sent in text:\n",
    "        sent = decontracted(sent)\n",
    "        sent = sent.replace('\\\\r', ' ')\n",
    "        sent = sent.replace('\\\\n', ' ')\n",
    "        sent = sent.replace('\\\\\"', ' ')\n",
    "        sent = re.sub('[^A-Za-z0-9]+', ' ', sent)\n",
    "        sent = ' '.join(e for e in sent.split() if e.lower() not in stopwords)\n",
    "        preprocessed_text.append(sent.lower().strip())\n",
    "    return preprocessed_text"
   ]
  },
  {
   "cell_type": "code",
   "execution_count": 8,
   "metadata": {},
   "outputs": [],
   "source": [
    "feature_list_bow = []\n",
    "feature_list_tfidf = []"
   ]
  },
  {
   "cell_type": "markdown",
   "metadata": {},
   "source": [
    "### 1. Essay"
   ]
  },
  {
   "cell_type": "code",
   "execution_count": 9,
   "metadata": {},
   "outputs": [
    {
     "name": "stdout",
     "output_type": "stream",
     "text": [
      "(64000, 10000) (64000,)\n",
      "(16000, 10000) (16000,)\n",
      "(20000, 10000) (20000,)\n"
     ]
    }
   ],
   "source": [
    "def preprocess_essays(df):\n",
    "    df['essay'] = df['project_essay_1'].map(str) +\\\n",
    "                  df['project_essay_2'].map(str) +\\\n",
    "                  df['project_essay_3'].map(str) +\\\n",
    "                  df['project_essay_4'].map(str)\n",
    "\n",
    "    df['clean_essay'] = preprocess_text(df['essay'].values)\n",
    "    \n",
    "preprocess_essays(X_train)\n",
    "preprocess_essays(X_cv)\n",
    "preprocess_essays(X_test)\n",
    "\n",
    "# bow\n",
    "bow_model = CountVectorizer(min_df=10, max_features=10000)\n",
    "bow_model.fit(X_train['clean_essay'].values)\n",
    "\n",
    "X_train_essay_bow = bow_model.transform(X_train['clean_essay'].values)\n",
    "X_cv_essay_bow = bow_model.transform(X_cv['clean_essay'].values)\n",
    "X_test_essay_bow = bow_model.transform(X_test['clean_essay'].values)\n",
    "\n",
    "feature_list_bow.extend(bow_model.get_feature_names())\n",
    "\n",
    "print(X_train_essay_bow.shape, y_train.shape)\n",
    "print(X_cv_essay_bow.shape, y_cv.shape)\n",
    "print(X_test_essay_bow.shape, y_test.shape)"
   ]
  },
  {
   "cell_type": "code",
   "execution_count": 10,
   "metadata": {},
   "outputs": [
    {
     "name": "stdout",
     "output_type": "stream",
     "text": [
      "(64000, 10000) (64000,)\n",
      "(16000, 10000) (16000,)\n",
      "(20000, 10000) (20000,)\n"
     ]
    }
   ],
   "source": [
    "# tfidf\n",
    "tfidf_model = TfidfVectorizer(min_df=10, max_features=10000)\n",
    "tfidf_model.fit(X_train['clean_essay'].values)\n",
    "\n",
    "X_train_essay_tfidf = tfidf_model.transform(X_train['clean_essay'].values)\n",
    "X_cv_essay_tfidf = tfidf_model.transform(X_cv['clean_essay'].values)\n",
    "X_test_essay_tfidf = tfidf_model.transform(X_test['clean_essay'].values)\n",
    "\n",
    "feature_list_tfidf.extend(tfidf_model.get_feature_names())\n",
    "\n",
    "print(X_train_essay_tfidf.shape, y_train.shape)\n",
    "print(X_cv_essay_tfidf.shape, y_cv.shape)\n",
    "print(X_test_essay_tfidf.shape, y_test.shape)"
   ]
  },
  {
   "cell_type": "markdown",
   "metadata": {},
   "source": [
    "### 2. Teacher Prefix"
   ]
  },
  {
   "cell_type": "code",
   "execution_count": 11,
   "metadata": {},
   "outputs": [
    {
     "name": "stdout",
     "output_type": "stream",
     "text": [
      "(64000, 5) (64000,)\n",
      "(16000, 5) (16000,)\n",
      "(20000, 5) (20000,)\n"
     ]
    }
   ],
   "source": [
    "def preprocess_teacher_prefix(df):\n",
    "    df['teacher_prefix'] = df['teacher_prefix'].fillna('Mrs.')\n",
    "    df['teacher_prefix'] = df['teacher_prefix'].str.replace('.', '')\n",
    "    df['clean_teacher_prefix'] = df['teacher_prefix'].str.lower()\n",
    "\n",
    "preprocess_teacher_prefix(X_train)\n",
    "preprocess_teacher_prefix(X_cv)\n",
    "preprocess_teacher_prefix(X_test)\n",
    "\n",
    "vectorizer = CountVectorizer()\n",
    "vectorizer.fit(X_train['clean_teacher_prefix'].values)\n",
    "\n",
    "X_train_teacher_ohe = vectorizer.transform(X_train['clean_teacher_prefix'].values)\n",
    "X_cv_teacher_ohe = vectorizer.transform(X_cv['clean_teacher_prefix'].values)\n",
    "X_test_teacher_ohe = vectorizer.transform(X_test['clean_teacher_prefix'].values)\n",
    "\n",
    "feature_list_bow.extend(vectorizer.get_feature_names())\n",
    "feature_list_tfidf.extend(vectorizer.get_feature_names())\n",
    "\n",
    "print(X_train_teacher_ohe.shape, y_train.shape)\n",
    "print(X_cv_teacher_ohe.shape, y_cv.shape)\n",
    "print(X_test_teacher_ohe.shape, y_test.shape)"
   ]
  },
  {
   "cell_type": "markdown",
   "metadata": {},
   "source": [
    "### 3. Teacher Grade Category"
   ]
  },
  {
   "cell_type": "code",
   "execution_count": 12,
   "metadata": {},
   "outputs": [
    {
     "name": "stdout",
     "output_type": "stream",
     "text": [
      "(64000, 4) (64000,)\n",
      "(16000, 4) (16000,)\n",
      "(20000, 4) (20000,)\n"
     ]
    }
   ],
   "source": [
    "def preprocess_project_grade_category(df):\n",
    "    # cleaning\n",
    "    df['project_grade_category'] = df['project_grade_category'].str.replace(' ', '_')\n",
    "    df['project_grade_category'] = df['project_grade_category'].str.replace('-', '_')\n",
    "    df['clean_project_grade_category'] = df['project_grade_category'].str.lower()\n",
    "\n",
    "preprocess_project_grade_category(X_train)\n",
    "preprocess_project_grade_category(X_cv)\n",
    "preprocess_project_grade_category(X_test)\n",
    "\n",
    "# encoding using one hot encoding\n",
    "vectorizer = CountVectorizer()\n",
    "vectorizer.fit(X_train['clean_project_grade_category'].values)\n",
    "\n",
    "X_train_grade_ohe = vectorizer.transform(X_train['clean_project_grade_category'].values)\n",
    "X_cv_grade_ohe = vectorizer.transform(X_cv['clean_project_grade_category'].values)\n",
    "X_test_grade_ohe = vectorizer.transform(X_test['clean_project_grade_category'].values)\n",
    "\n",
    "feature_list_bow.extend(vectorizer.get_feature_names())\n",
    "feature_list_tfidf.extend(vectorizer.get_feature_names())\n",
    "\n",
    "print(X_train_grade_ohe.shape, y_train.shape)\n",
    "print(X_cv_grade_ohe.shape, y_cv.shape)\n",
    "print(X_test_grade_ohe.shape, y_test.shape)"
   ]
  },
  {
   "cell_type": "markdown",
   "metadata": {},
   "source": [
    "### 4. School State"
   ]
  },
  {
   "cell_type": "code",
   "execution_count": 13,
   "metadata": {},
   "outputs": [
    {
     "name": "stdout",
     "output_type": "stream",
     "text": [
      "(64000, 51) (64000,)\n",
      "(16000, 51) (16000,)\n",
      "(20000, 51) (20000,)\n"
     ]
    }
   ],
   "source": [
    "def preprocess_school_state(df):\n",
    "    df['school_state'] = df['school_state'].str.lower()\n",
    "\n",
    "preprocess_school_state(X_train)\n",
    "preprocess_school_state(X_cv)\n",
    "preprocess_school_state(X_test)\n",
    "\n",
    "# encoding using one hot encoder\n",
    "vectorizer = CountVectorizer(binary=True)\n",
    "vectorizer.fit(X_train['school_state'].values)\n",
    "\n",
    "X_train_state_ohe = vectorizer.transform(X_train['school_state'].values)\n",
    "X_cv_state_ohe = vectorizer.transform(X_cv['school_state'].values)\n",
    "X_test_state_ohe = vectorizer.transform(X_test['school_state'].values)\n",
    "\n",
    "feature_list_bow.extend(vectorizer.get_feature_names())\n",
    "feature_list_tfidf.extend(vectorizer.get_feature_names())\n",
    "\n",
    "print(X_train_state_ohe.shape, y_train.shape)\n",
    "print(X_cv_state_ohe.shape, y_cv.shape)\n",
    "print(X_test_state_ohe.shape, y_test.shape)"
   ]
  },
  {
   "cell_type": "markdown",
   "metadata": {},
   "source": [
    "### 5. Project Subject Categories"
   ]
  },
  {
   "cell_type": "code",
   "execution_count": 14,
   "metadata": {},
   "outputs": [
    {
     "name": "stdout",
     "output_type": "stream",
     "text": [
      "(64000, 18) (64000,)\n",
      "(16000, 18) (16000,)\n",
      "(20000, 18) (20000,)\n"
     ]
    }
   ],
   "source": [
    "def preprocess_project_subject_categories(df):\n",
    "    # cleaning\n",
    "    df['project_subject_categories'] = project_data['project_subject_categories'].str.replace(' The', '')\n",
    "    df['project_subject_categories'] = project_data['project_subject_categories'].str.replace(' ', '')\n",
    "    df['project_subject_categories'] = project_data['project_subject_categories'].str.replace('&', '_')\n",
    "    df['project_subject_categories'] = project_data['project_subject_categories'].str.replace(',', '_')\n",
    "    df['clean_project_subject_categories'] = project_data['project_subject_categories'].str.lower()\n",
    "\n",
    "preprocess_project_subject_categories(X_train)\n",
    "preprocess_project_subject_categories(X_cv)\n",
    "preprocess_project_subject_categories(X_test)\n",
    "\n",
    "# encoding using one hot encoding\n",
    "vectorizer = CountVectorizer()\n",
    "vectorizer.fit(X_train['clean_project_subject_categories'].values)\n",
    "\n",
    "X_train_subject_ohe = vectorizer.transform(X_train['clean_project_subject_categories'].values)\n",
    "X_cv_subject_ohe = vectorizer.transform(X_cv['clean_project_subject_categories'].values)\n",
    "X_test_subject_ohe = vectorizer.transform(X_test['clean_project_subject_categories'].values)\n",
    "\n",
    "feature_list_bow.extend(vectorizer.get_feature_names())\n",
    "feature_list_tfidf.extend(vectorizer.get_feature_names())\n",
    "\n",
    "print(X_train_subject_ohe.shape, y_train.shape)\n",
    "print(X_cv_subject_ohe.shape, y_cv.shape)\n",
    "print(X_test_subject_ohe.shape, y_test.shape)"
   ]
  },
  {
   "cell_type": "markdown",
   "metadata": {},
   "source": [
    "### 6. Project Subject Subcategories"
   ]
  },
  {
   "cell_type": "code",
   "execution_count": 15,
   "metadata": {},
   "outputs": [
    {
     "name": "stdout",
     "output_type": "stream",
     "text": [
      "(64000, 387) (64000,)\n",
      "(64000, 387) (16000,)\n",
      "(64000, 387) (20000,)\n"
     ]
    }
   ],
   "source": [
    "def preprocess_project_subject_subcategories(df):\n",
    "    df['project_subject_subcategories'] = df['project_subject_subcategories'].str.replace(' The', '')\n",
    "    df['project_subject_subcategories'] = df['project_subject_subcategories'].str.replace(' ','')\n",
    "    df['project_subject_subcategories'] = df['project_subject_subcategories'].str.replace('&', '_')\n",
    "    df['project_subject_subcategories'] = df['project_subject_subcategories'].str.replace(',', '_')\n",
    "    df['clean_project_subject_subcategories'] = df['project_subject_subcategories'].str.lower()\n",
    "\n",
    "preprocess_project_subject_subcategories(X_train)\n",
    "preprocess_project_subject_subcategories(X_cv)\n",
    "preprocess_project_subject_subcategories(X_test)\n",
    "\n",
    "vectorizer = CountVectorizer()\n",
    "vectorizer.fit(X_train['clean_project_subject_subcategories'].values)\n",
    "\n",
    "X_train_subject_subcategories_ohe = vectorizer.transform(X_train['clean_project_subject_subcategories'].values)\n",
    "X_cv_subject_subcategories_ohe = vectorizer.transform(X_cv['clean_project_subject_subcategories'].values)\n",
    "X_test_subject_subcategories_ohe = vectorizer.transform(X_test['clean_project_subject_subcategories'].values)\n",
    "\n",
    "feature_list_bow.extend(vectorizer.get_feature_names())\n",
    "feature_list_tfidf.extend(vectorizer.get_feature_names())\n",
    "\n",
    "print(X_train_subject_subcategories_ohe.shape, y_train.shape)\n",
    "print(X_train_subject_subcategories_ohe.shape, y_cv.shape)\n",
    "print(X_train_subject_subcategories_ohe.shape, y_test.shape)"
   ]
  },
  {
   "cell_type": "markdown",
   "metadata": {},
   "source": [
    "### 7. Price"
   ]
  },
  {
   "cell_type": "code",
   "execution_count": 16,
   "metadata": {},
   "outputs": [
    {
     "name": "stdout",
     "output_type": "stream",
     "text": [
      "(64000, 1) (64000,)\n",
      "(16000, 1) (64000,)\n",
      "(20000, 1) (64000,)\n"
     ]
    }
   ],
   "source": [
    "normalizer = Normalizer()\n",
    "normalizer.fit(X_train['price'].values.reshape(1,-1))\n",
    "\n",
    "X_train_price_temp = normalizer.transform(X_train['price'].values.reshape(1,-1))\n",
    "X_cv_price_temp = normalizer.transform(X_cv['price'].values.reshape(1,-1))\n",
    "X_test_price_temp = normalizer.transform(X_test['price'].values.reshape(1,-1))\n",
    "\n",
    "X_train_price_normalized = X_train_price_temp.reshape(-1,1)\n",
    "X_cv_price_normalized = X_cv_price_temp.reshape(-1,1)\n",
    "X_test_price_normalized = X_test_price_temp.reshape(-1,1)\n",
    "\n",
    "feature_list_bow.append('Price')\n",
    "feature_list_tfidf.append('Price')\n",
    "\n",
    "print(X_train_price_normalized.shape, y_train.shape)\n",
    "print(X_cv_price_normalized.shape, y_train.shape)\n",
    "print(X_test_price_normalized.shape, y_train.shape)"
   ]
  },
  {
   "cell_type": "markdown",
   "metadata": {},
   "source": [
    "### 8. Teacher number of previously posted projects"
   ]
  },
  {
   "cell_type": "code",
   "execution_count": 17,
   "metadata": {},
   "outputs": [
    {
     "name": "stdout",
     "output_type": "stream",
     "text": [
      "(64000, 1) (64000,)\n",
      "(16000, 1) (64000,)\n",
      "(20000, 1) (64000,)\n"
     ]
    }
   ],
   "source": [
    "normalizer = Normalizer()\n",
    "normalizer.fit(X_train['teacher_number_of_previously_posted_projects'].values.reshape(1,-1))\n",
    "\n",
    "X_train_price_temp = normalizer.transform(X_train['teacher_number_of_previously_posted_projects'].values.reshape(1,-1))\n",
    "X_cv_price_temp = normalizer.transform(X_cv['teacher_number_of_previously_posted_projects'].values.reshape(1,-1))\n",
    "X_test_price_temp = normalizer.transform(X_test['teacher_number_of_previously_posted_projects'].values.reshape(1,-1))\n",
    "\n",
    "X_train_prev_proj_norm = X_train_price_temp.reshape(-1,1)\n",
    "X_cv_prev_proj_norm = X_cv_price_temp.reshape(-1,1)\n",
    "X_test_prev_proj_norm = X_test_price_temp.reshape(-1,1)\n",
    "\n",
    "feature_list_bow.append('teacher_number_of_previously_posted_projects')\n",
    "feature_list_tfidf.append('teacher_number_of_previously_posted_projects')\n",
    "\n",
    "print(X_train_prev_proj_norm.shape, y_train.shape)\n",
    "print(X_cv_prev_proj_norm.shape, y_train.shape)\n",
    "print(X_test_prev_proj_norm.shape, y_train.shape)"
   ]
  },
  {
   "cell_type": "code",
   "execution_count": 18,
   "metadata": {},
   "outputs": [
    {
     "name": "stdout",
     "output_type": "stream",
     "text": [
      "(64000, 10467) (64000,)\n",
      "(16000, 10467) (16000,)\n",
      "(20000, 10467) (20000,)\n"
     ]
    }
   ],
   "source": [
    "# combining features\n",
    "X_train_bow = hstack((X_train_teacher_ohe, X_train_grade_ohe, X_train_state_ohe, X_train_subject_ohe, X_train_subject_subcategories_ohe, X_train_price_normalized, X_train_prev_proj_norm, X_train_essay_bow)).tocsr()\n",
    "X_cv_bow = hstack((X_cv_teacher_ohe, X_cv_grade_ohe, X_cv_state_ohe, X_cv_subject_ohe, X_cv_subject_subcategories_ohe, X_cv_price_normalized, X_cv_prev_proj_norm, X_cv_essay_bow)).tocsr()\n",
    "X_test_bow = hstack((X_test_teacher_ohe, X_test_grade_ohe, X_test_state_ohe, X_test_subject_ohe, X_test_subject_subcategories_ohe, X_test_price_normalized, X_test_prev_proj_norm, X_test_essay_bow)).tocsr()\n",
    "\n",
    "print(X_train_bow.shape, y_train.shape)\n",
    "print(X_cv_bow.shape, y_cv.shape)\n",
    "print(X_test_bow.shape, y_test.shape)"
   ]
  },
  {
   "cell_type": "code",
   "execution_count": 19,
   "metadata": {},
   "outputs": [
    {
     "name": "stdout",
     "output_type": "stream",
     "text": [
      "(64000, 10467) (64000,)\n",
      "(16000, 10467) (16000,)\n",
      "(20000, 10467) (20000,)\n"
     ]
    }
   ],
   "source": [
    "# combining features\n",
    "X_train_tfidf = hstack((X_train_teacher_ohe, X_train_grade_ohe, X_train_state_ohe, X_train_subject_ohe, X_train_subject_subcategories_ohe, X_train_price_normalized, X_train_prev_proj_norm, X_train_essay_tfidf)).tocsr()\n",
    "X_cv_tfidf = hstack((X_cv_teacher_ohe, X_cv_grade_ohe, X_cv_state_ohe, X_cv_subject_ohe, X_cv_subject_subcategories_ohe, X_cv_price_normalized, X_cv_prev_proj_norm, X_cv_essay_tfidf)).tocsr()\n",
    "X_test_tfidf = hstack((X_test_teacher_ohe, X_test_grade_ohe, X_test_state_ohe, X_test_subject_ohe, X_test_subject_subcategories_ohe, X_test_price_normalized, X_test_prev_proj_norm, X_test_essay_tfidf)).tocsr()\n",
    "\n",
    "print(X_train_tfidf.shape, y_train.shape)\n",
    "print(X_cv_tfidf.shape, y_cv.shape)\n",
    "print(X_test_tfidf.shape, y_test.shape)"
   ]
  },
  {
   "cell_type": "code",
   "execution_count": 20,
   "metadata": {},
   "outputs": [
    {
     "data": {
      "application/vnd.jupyter.widget-view+json": {
       "model_id": "aba9ce74bd634cec9966412926f1c722",
       "version_major": 2,
       "version_minor": 0
      },
      "text/plain": [
       "HBox(children=(IntProgress(value=0, max=14), HTML(value='')))"
      ]
     },
     "metadata": {},
     "output_type": "display_data"
    },
    {
     "name": "stdout",
     "output_type": "stream",
     "text": [
      "\n"
     ]
    },
    {
     "data": {
      "image/png": "[encoded data removed]",
      "text/plain": [
       "<Figure size 720x360 with 1 Axes>"
      ]
     },
     "metadata": {},
     "output_type": "display_data"
    }
   ],
   "source": [
    "# using first set of features (BOW)\n",
    "alpha = [0.00001,0.0005, 0.0001,0.005,0.001,0.05,0.01,0.1,0.5,1,5,10,50,100]\n",
    "\n",
    "train_auc_bow = []\n",
    "cv_auc_bow = []\n",
    "\n",
    "for i in tqdm_notebook(alpha):\n",
    "    classifier_bow = MultinomialNB(alpha=i, class_prior=[0.5, 0.5])\n",
    "    classifier_bow.fit(X_train_bow, y_train)\n",
    "    \n",
    "    y_train_pred = classifier_bow.predict(X_train_bow)\n",
    "    y_cv_pred = classifier_bow.predict(X_cv_bow)\n",
    "    \n",
    "    train_auc_bow.append(roc_auc_score(y_train, y_train_pred))\n",
    "    cv_auc_bow.append(roc_auc_score(y_cv, y_cv_pred))\n",
    "\n",
    "plt.figure(figsize=(10,5))\n",
    "plt.plot(alpha, train_auc_bow, label='Train ROC-AUC Score')\n",
    "plt.plot(alpha, cv_auc_bow, label='Cv ROC-AUC Score')\n",
    "\n",
    "plt.scatter(alpha, train_auc_bow, label='Train points')\n",
    "plt.scatter(alpha, cv_auc_bow, label='Cv points')\n",
    "\n",
    "plt.legend()\n",
    "plt.xscale('log')\n",
    "plt.xlabel('alpha: Hyperparameter')\n",
    "plt.ylabel('ROC-AUC Score')\n",
    "plt.title('Error Plots')\n",
    "plt.grid()\n",
    "plt.show()"
   ]
  },
  {
   "cell_type": "code",
   "execution_count": 21,
   "metadata": {},
   "outputs": [
    {
     "name": "stdout",
     "output_type": "stream",
     "text": [
      "Best alpha is:  1e-05\n",
      "Max AUC:  0.7077510582481161\n"
     ]
    },
    {
     "data": {
      "image/png": "[encoded data removed]",
      "text/plain": [
       "<Figure size 720x360 with 1 Axes>"
      ]
     },
     "metadata": {},
     "output_type": "display_data"
    }
   ],
   "source": [
    "# best alpha is the one with maximum auc value\n",
    "best_alpha_bow =alpha[np.argmax(train_auc_bow)]\n",
    "print('Best alpha is: ', best_alpha_bow)\n",
    "\n",
    "classifier_bow = MultinomialNB(alpha=best_alpha_bow, class_prior=[0.5, 0.5])\n",
    "classifier_bow.fit(X_train_bow, y_train)\n",
    "\n",
    "y_train_pred = classifier_bow.predict(X_train_bow)\n",
    "y_test_pred = classifier_bow.predict(X_test_bow)\n",
    "\n",
    "train_fpr, train_tpr, train_thresholds = roc_curve(y_train, y_train_pred)\n",
    "test_fpr, test_tpr, test_thresholds = roc_curve(y_test, y_test_pred)\n",
    "\n",
    "auc_bow = auc(train_fpr, train_tpr)\n",
    "print('Max AUC: ', str(auc_bow))\n",
    "\n",
    "plt.figure(figsize=(10,5))\n",
    "plt.plot(train_fpr, train_tpr, label='Train AUC ='+str(auc(train_fpr, train_tpr)))\n",
    "plt.plot(test_fpr, test_tpr, label='Test AUC ='+str(auc(test_fpr, test_tpr)))\n",
    "plt.legend()\n",
    "plt.xlabel('alpha: hyperparameter')\n",
    "plt.ylabel('AUC')\n",
    "plt.title('Error Plots')\n",
    "plt.grid()\n",
    "plt.show()"
   ]
  },
  {
   "cell_type": "code",
   "execution_count": 22,
   "metadata": {},
   "outputs": [],
   "source": [
    "def find_best_threshold(threshold, fpr, tpr):\n",
    "    t = threshold[np.argmax(tpr*(1-fpr))]\n",
    "    print('The maximum value of tpr*(1-fpr)', max(tpr*(1-fpr)), 'for threshold', np.round(t,3))\n",
    "    return t\n",
    "\n",
    "def predict_with_best_t(proba, threshold):\n",
    "    predictions = []\n",
    "    for i in proba:\n",
    "        if i>=threshold:\n",
    "            predictions.append(1)\n",
    "        else:\n",
    "            predictions.append(0)\n",
    "    return predictions"
   ]
  },
  {
   "cell_type": "code",
   "execution_count": 23,
   "metadata": {},
   "outputs": [
    {
     "name": "stdout",
     "output_type": "stream",
     "text": [
      "The maximum value of tpr*(1-fpr) 0.5009109781334281 for threshold 1\n",
      "Train confusion matrix:\n",
      "[[ 6857  2821]\n",
      " [15917 38405]]\n",
      "Test confusion matrix:\n",
      "[[ 1843  1181]\n",
      " [ 5225 11751]]\n"
     ]
    }
   ],
   "source": [
    "best_t = find_best_threshold(train_thresholds, train_fpr, train_tpr)\n",
    "\n",
    "print('Train confusion matrix:')\n",
    "print(confusion_matrix(y_train, predict_with_best_t(y_train_pred, best_t)))\n",
    "print('Test confusion matrix:')\n",
    "print(confusion_matrix(y_test, predict_with_best_t(y_test_pred, best_t)))"
   ]
  },
  {
   "cell_type": "code",
   "execution_count": 24,
   "metadata": {},
   "outputs": [],
   "source": [
    "# https://stackoverflow.com/questions/61748441/how-to-fix-the-values-displayed-in-a-confusion-matrix-in-exponential-form-to-nor\n",
    "def plotConfusionMatrix(matrix):\n",
    "    ax = plt.subplot()\n",
    "    sns.heatmap(matrix, annot=True, fmt='d', cmap='Blues')\n",
    "    ax.set_xlabel('Predicted')\n",
    "    ax.set_ylabel('True')\n",
    "    ax.set_title('Confusion Matrix')\n",
    "    ax.xaxis.set_ticklabels(['Rejected','Accepted'])\n",
    "    ax.yaxis.set_ticklabels(['Rejected','Accepted'])"
   ]
  },
  {
   "cell_type": "code",
   "execution_count": 25,
   "metadata": {},
   "outputs": [
    {
     "data": {
      "image/png": "[encoded data removed]",
      "text/plain": [
       "<Figure size 432x288 with 2 Axes>"
      ]
     },
     "metadata": {},
     "output_type": "display_data"
    }
   ],
   "source": [
    "train_matrix = confusion_matrix(y_train, predict_with_best_t(y_train_pred, best_t))\n",
    "plotConfusionMatrix(train_matrix)"
   ]
  },
  {
   "cell_type": "code",
   "execution_count": 26,
   "metadata": {},
   "outputs": [
    {
     "data": {
      "image/png": "[encoded data removed]",
      "text/plain": [
       "<Figure size 432x288 with 2 Axes>"
      ]
     },
     "metadata": {},
     "output_type": "display_data"
    }
   ],
   "source": [
    "test_matrix = confusion_matrix(y_test, predict_with_best_t(y_test_pred, best_t))\n",
    "plotConfusionMatrix(test_matrix)"
   ]
  },
  {
   "cell_type": "code",
   "execution_count": 27,
   "metadata": {},
   "outputs": [
    {
     "data": {
      "application/vnd.jupyter.widget-view+json": {
       "model_id": "be97a5f1cde0450c932c54305abed6d5",
       "version_major": 2,
       "version_minor": 0
      },
      "text/plain": [
       "HBox(children=(IntProgress(value=0, max=14), HTML(value='')))"
      ]
     },
     "metadata": {},
     "output_type": "display_data"
    },
    {
     "name": "stdout",
     "output_type": "stream",
     "text": [
      "\n"
     ]
    },
    {
     "data": {
      "image/png": "[encoded data removed]",
      "text/plain": [
       "<Figure size 720x360 with 1 Axes>"
      ]
     },
     "metadata": {},
     "output_type": "display_data"
    }
   ],
   "source": [
    "# using second set of features (TFIDF)\n",
    "alpha = [0.00001,0.0005, 0.0001,0.005,0.001,0.05,0.01,0.1,0.5,1,5,10,50,100]\n",
    "\n",
    "train_auc_tfidf = []\n",
    "cv_auc_tfidf = []\n",
    "\n",
    "for i in tqdm_notebook(alpha):\n",
    "    classifier_tfidf = MultinomialNB(alpha=i, class_prior=[0.5, 0.5])\n",
    "    classifier_tfidf.fit(X_train_tfidf, y_train)\n",
    "    \n",
    "    y_train_pred = classifier_tfidf.predict(X_train_tfidf)\n",
    "    y_cv_pred = classifier_tfidf.predict(X_cv_tfidf)\n",
    "    \n",
    "    train_auc_tfidf.append(roc_auc_score(y_train, y_train_pred))\n",
    "    cv_auc_tfidf.append(roc_auc_score(y_cv, y_cv_pred))\n",
    "\n",
    "plt.figure(figsize=(10,5))\n",
    "plt.plot(alpha, train_auc_tfidf, label='Train ROC-AUC Score')\n",
    "plt.plot(alpha, cv_auc_tfidf, label='Cv ROC-AUC Score')\n",
    "\n",
    "plt.scatter(alpha, train_auc_tfidf, label='Train points')\n",
    "plt.scatter(alpha, cv_auc_tfidf, label='Cv points')\n",
    "\n",
    "plt.legend()\n",
    "plt.xscale('log')\n",
    "plt.xlabel('alpha: Hyperparameter')\n",
    "plt.ylabel('ROC-AUC Score')\n",
    "plt.title('Error Plots')\n",
    "plt.grid()\n",
    "plt.show()"
   ]
  },
  {
   "cell_type": "code",
   "execution_count": 28,
   "metadata": {},
   "outputs": [
    {
     "name": "stdout",
     "output_type": "stream",
     "text": [
      "Best alpha is:  1e-05\n",
      "Max AUC:  0.6793985051396774\n"
     ]
    },
    {
     "data": {
      "image/png": "[encoded data removed]",
      "text/plain": [
       "<Figure size 720x360 with 1 Axes>"
      ]
     },
     "metadata": {},
     "output_type": "display_data"
    }
   ],
   "source": [
    "best_alpha_tfidf=alpha[np.argmax(train_auc_tfidf)]\n",
    "print('Best alpha is: ', best_alpha_tfidf)\n",
    "\n",
    "classifier_tfidf = MultinomialNB(alpha=best_alpha_tfidf, class_prior=[0.5, 0.5])\n",
    "classifier_tfidf.fit(X_train_tfidf, y_train)\n",
    "\n",
    "y_train_pred = classifier_tfidf.predict(X_train_tfidf)\n",
    "y_test_pred = classifier_tfidf.predict(X_test_tfidf)\n",
    "\n",
    "train_fpr, train_tpr, train_thresholds = roc_curve(y_train, y_train_pred)\n",
    "test_fpr, test_tpr, test_thresholds = roc_curve(y_test, y_test_pred)\n",
    "\n",
    "auc_tfidf = auc(train_fpr, train_tpr)\n",
    "print('Max AUC: ', str(auc_tfidf))\n",
    "\n",
    "plt.figure(figsize=(10,5))\n",
    "plt.plot(train_fpr, train_tpr, label='Train AUC ='+str(auc(train_fpr, train_tpr)))\n",
    "plt.plot(test_fpr, test_tpr, label='Test AUC ='+str(auc(test_fpr, test_tpr)))\n",
    "plt.legend()\n",
    "plt.xlabel('alpha: hyperparameter')\n",
    "plt.ylabel('AUC')\n",
    "plt.title('Error Plots')\n",
    "plt.grid()\n",
    "plt.show()"
   ]
  },
  {
   "cell_type": "code",
   "execution_count": 29,
   "metadata": {},
   "outputs": [
    {
     "name": "stdout",
     "output_type": "stream",
     "text": [
      "The maximum value of tpr*(1-fpr) 0.46150660258520293 for threshold 1\n",
      "Train confusion matrix:\n",
      "[[ 6491  3187]\n",
      " [16943 37379]]\n",
      "Test confusion matrix:\n",
      "[[ 1668  1356]\n",
      " [ 5451 11525]]\n"
     ]
    }
   ],
   "source": [
    "best_t = find_best_threshold(train_thresholds, train_fpr, train_tpr)\n",
    "\n",
    "print('Train confusion matrix:')\n",
    "print(confusion_matrix(y_train, predict_with_best_t(y_train_pred, best_t)))\n",
    "print('Test confusion matrix:')\n",
    "print(confusion_matrix(y_test, predict_with_best_t(y_test_pred, best_t)))"
   ]
  },
  {
   "cell_type": "code",
   "execution_count": 30,
   "metadata": {},
   "outputs": [
    {
     "data": {
      "image/png": "[encoded data removed]",
      "text/plain": [
       "<Figure size 432x288 with 2 Axes>"
      ]
     },
     "metadata": {},
     "output_type": "display_data"
    }
   ],
   "source": [
    "train_matrix = confusion_matrix(y_train, predict_with_best_t(y_train_pred, best_t))\n",
    "plotConfusionMatrix(train_matrix)"
   ]
  },
  {
   "cell_type": "code",
   "execution_count": 31,
   "metadata": {},
   "outputs": [
    {
     "data": {
      "image/png": "[encoded data removed]",
      "text/plain": [
       "<Figure size 432x288 with 2 Axes>"
      ]
     },
     "metadata": {},
     "output_type": "display_data"
    }
   ],
   "source": [
    "test_matrix = confusion_matrix(y_test, predict_with_best_t(y_test_pred, best_t))\n",
    "plotConfusionMatrix(test_matrix)"
   ]
  },
  {
   "cell_type": "code",
   "execution_count": 32,
   "metadata": {},
   "outputs": [
    {
     "name": "stdout",
     "output_type": "stream",
     "text": [
      "\n",
      "Top 20 features for rejecting projects using BOW are: \n",
      " ['tomorrow', 'somewhere', 'metallic', 'count', 'permit', 'messy', 'institution', 'parental', 'needing', 'passive', 'health_wellness_other', 'cultivating', 'next', 'mounted', 'roster', 'strings', 'arithmetic', 'dramatically', 'zest', 'costly'] \n",
      "\n",
      "----------------------------------------------------------------------------------------------------\n",
      "\n",
      "Top 20 features for accepting projects using BOW are: \n",
      " ['tomorrow', 'somewhere', 'metallic', 'count', 'permit', 'messy', 'institution', 'needing', 'parental', 'roster', 'passive', 'health_wellness_other', 'zest', 'mounted', 'arithmetic', 'dramatically', 'costly', 'cultivating', 'literature_writing_other', 'unconventional']\n"
     ]
    }
   ],
   "source": [
    "# printing top 20 BOW features for negative and positive class\n",
    "negative_bow = classifier_bow.feature_log_prob_[0]\n",
    "top_20_negative_bow = np.argsort(negative_bow)[::-1][:20]\n",
    "top_20_negative_bow_features = [feature_list_bow[i] for i in top_20_negative_bow]\n",
    "print('\\nTop 20 features for rejecting projects using BOW are: \\n', top_20_negative_bow_features, '\\n')\n",
    "\n",
    "print('-'*100)\n",
    "\n",
    "positive_bow = classifier_bow.feature_log_prob_[1]\n",
    "top_20_positive_bow = np.argsort(positive_bow)[::-1][:20]\n",
    "top_20_positive_bow_features = [feature_list_bow[i] for i in top_20_positive_bow]\n",
    "print('\\nTop 20 features for accepting projects using BOW are: \\n', top_20_positive_bow_features)"
   ]
  },
  {
   "cell_type": "code",
   "execution_count": 33,
   "metadata": {},
   "outputs": [
    {
     "name": "stdout",
     "output_type": "stream",
     "text": [
      "\n",
      "Top 20 features for rejecting projects using TFIDF are: \n",
      " ['10', '30', '2d', '105', '300', '32', '100', '100th', '101', '320', '31', '28', '33', 'tomorrow', '115', '25', '2nd', '104', '000', '34'] \n",
      "\n",
      "----------------------------------------------------------------------------------------------------\n",
      "\n",
      "Top 20 features for accepting projects using TFIDF are: \n",
      " ['10', '2d', '30', '105', '32', '300', '100', '100th', '101', '115', 'tomorrow', '28', '33', '320', '31', '25', '2nd', '104', '000', '34']\n"
     ]
    }
   ],
   "source": [
    "# printing top 20 TFIDF features for negative and positive class\n",
    "negative_tfidf = classifier_tfidf.feature_log_prob_[0]\n",
    "top_20_negative_tfidf = np.argsort(negative_tfidf)[::-1][:20]\n",
    "top_20_negative_tfidf_features = [feature_list_tfidf[i] for i in top_20_negative_tfidf]\n",
    "print('\\nTop 20 features for rejecting projects using TFIDF are: \\n', top_20_negative_tfidf_features, '\\n')\n",
    "\n",
    "print('-'*100)\n",
    "\n",
    "positive_tfidf = classifier_tfidf.feature_log_prob_[1]\n",
    "top_20_positive_tfidf = np.argsort(positive_tfidf)[::-1][:20]\n",
    "top_20_positive_tfidf_features = [feature_list_tfidf[i] for i in top_20_positive_tfidf]\n",
    "print('\\nTop 20 features for accepting projects using TFIDF are: \\n', top_20_positive_tfidf_features)"
   ]
  },
  {
   "cell_type": "code",
   "execution_count": 34,
   "metadata": {},
   "outputs": [
    {
     "name": "stdout",
     "output_type": "stream",
     "text": [
      "+------------+-------------+----------------+--------------------+\n",
      "| Vectorizer |    Model    | HyperParameter |        AUC         |\n",
      "+------------+-------------+----------------+--------------------+\n",
      "|    BOW     | Naive Bayes |     1e-05      | 0.7077510582481161 |\n",
      "|   TFIDF    | Naive Bayes |     1e-05      | 0.6793985051396774 |\n",
      "+------------+-------------+----------------+--------------------+\n"
     ]
    }
   ],
   "source": [
    "# summerising the results of various models\n",
    "table = PrettyTable()\n",
    "table.field_names = ['Vectorizer', 'Model', 'HyperParameter', 'AUC']\n",
    "\n",
    "table.add_row(['BOW', 'Naive Bayes', best_alpha_bow, auc_bow])\n",
    "table.add_row(['TFIDF', 'Naive Bayes', best_alpha_tfidf, auc_tfidf])\n",
    "\n",
    "print(table)"
   ]
  },
  {
   "cell_type": "code",
   "execution_count": null,
   "metadata": {},
   "outputs": [],
   "source": []
  }
 ],
 "metadata": {
  "kernelspec": {
   "display_name": "Python 3",
   "language": "python",
   "name": "python3"
  },
  "language_info": {
   "codemirror_mode": {
    "name": "ipython",
    "version": 3
   },
   "file_extension": ".py",
   "mimetype": "text/x-python",
   "name": "python",
   "nbconvert_exporter": "python",
   "pygments_lexer": "ipython3",
   "version": "3.6.5"
  }
 },
 "nbformat": 4,
 "nbformat_minor": 2
}
