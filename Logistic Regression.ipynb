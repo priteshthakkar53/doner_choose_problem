{
 "cells": [
  {
   "cell_type": "code",
   "execution_count": 1,
   "metadata": {},
   "outputs": [],
   "source": [
    "import pandas as pd\n",
    "import numpy as np\n",
    "import warnings\n",
    "warnings.filterwarnings(\"ignore\")\n",
    "from tqdm import tqdm_notebook\n",
    "from sklearn.model_selection import GridSearchCV\n",
    "from sklearn.tree import DecisionTreeClassifier\n",
    "from sklearn.metrics import roc_auc_score,roc_curve,auc\n",
    "from sklearn.metrics import confusion_matrix\n",
    "import matplotlib.pyplot as plt\n",
    "%matplotlib inline\n",
    "import seaborn as sns\n",
    "from wordcloud import WordCloud, STOPWORDS\n",
    "from sklearn.linear_model import LogisticRegression\n",
    "from scipy import sparse\n",
    "from prettytable import PrettyTable"
   ]
  },
  {
   "cell_type": "code",
   "execution_count": 2,
   "metadata": {},
   "outputs": [],
   "source": [
    "X_train_tfidf = sparse.load_npz('X_train_tfidf_sc.npz')\n",
    "X_test_tfidf = sparse.load_npz('X_test_tfidf_sc.npz')\n",
    "\n",
    "y_train = np.load('y_train.npy')\n",
    "y_test = np.load('y_test.npy')"
   ]
  },
  {
   "cell_type": "code",
   "execution_count": 3,
   "metadata": {},
   "outputs": [
    {
     "name": "stdout",
     "output_type": "stream",
     "text": [
      "{'min_samples_split': 500}\n"
     ]
    }
   ],
   "source": [
    "# training DT for feature selection\n",
    "params_fs = {'min_samples_split': [5, 10, 100, 500]}\n",
    "\n",
    "clf_fs = GridSearchCV(DecisionTreeClassifier(class_weight='balanced'), params_fs, scoring='roc_auc', cv=5, return_train_score=True)\n",
    "clf_fs.fit(X_train_tfidf, y_train)\n",
    "print(clf_fs.best_params_)"
   ]
  },
  {
   "cell_type": "code",
   "execution_count": 4,
   "metadata": {},
   "outputs": [
    {
     "name": "stdout",
     "output_type": "stream",
     "text": [
      "[39, 213, 432, 438, 455, 458, 474, 485, 496, 510, 513, 565, 566, 634, 638, 646, 709, 715, 722, 732, 768, 769, 827, 838, 847, 851, 868, 876, 913, 930, 947, 963, 964, 1033, 1076, 1105, 1136, 1147, 1149, 1151, 1186, 1202, 1224, 1243, 1266, 1276, 1289, 1292, 1308, 1342, 1387, 1406, 1424, 1460, 1487, 1518, 1525, 1530, 1536, 1673, 1680, 1695, 1744, 1764, 1765, 1766, 1770, 1828, 1842, 1843, 1844, 1872, 1908, 1960, 1966, 1989, 1991, 2001, 2007, 2046, 2061, 2074, 2075, 2143, 2150, 2168, 2235, 2254, 2267, 2274, 2346, 2352, 2364, 2412, 2435, 2436, 2453, 2490, 2497, 2507, 2544, 2557, 2578, 2593, 2603, 2606, 2628, 2662, 2672, 2675, 2707, 2734, 2748, 2753, 2761, 2769, 2773, 2779, 2802, 2811, 2815, 2828, 2831, 2855, 2895, 2896, 2918, 2931, 2957, 2961, 2963, 2970, 2994, 3003, 3032, 3036, 3083, 3097, 3104, 3124, 3131, 3146, 3147, 3177, 3183, 3223, 3246, 3284, 3335, 3362, 3370, 3380, 3382, 3411, 3420, 3466, 3594, 3647, 3689, 3708, 3724, 3737, 3806, 3853, 3902, 3946, 3952, 3977, 3994, 4019, 4029, 4071, 4074, 4098, 4143, 4151, 4168, 4202, 4206, 4227, 4243, 4311, 4361, 4371, 4390, 4414, 4438, 4535, 4608, 4633, 4693, 4717, 4811, 4814, 4856, 4875, 4887, 4982, 4983, 5011, 5157, 5158, 5198, 5248, 5259, 5277, 5278, 5297, 5332, 5360, 5372, 5403, 5406, 5407, 5409, 5410]\n"
     ]
    }
   ],
   "source": [
    "# training best model with best hyperparameters\n",
    "best_model_fs = DecisionTreeClassifier(min_samples_split=clf_fs.best_params_['min_samples_split'], class_weight='balanced')\n",
    "best_model_fs.fit(X_train_tfidf, y_train)\n",
    "\n",
    "imp_features = best_model_fs.feature_importances_\n",
    "\n",
    "# https://www.geeksforgeeks.org/python-index-of-non-zero-elements-in-python-list/\n",
    "imp_features_idx = [idx for idx, val in enumerate(imp_features) if val != 0]\n",
    "print(imp_features_idx)"
   ]
  },
  {
   "cell_type": "code",
   "execution_count": 5,
   "metadata": {},
   "outputs": [
    {
     "name": "stdout",
     "output_type": "stream",
     "text": [
      "(20000, 216)\n",
      "(5000, 216)\n"
     ]
    }
   ],
   "source": [
    "# https://cmdlinetips.com/2019/07/how-to-slice-rows-and-columns-of-sparse-matrix-in-python/\n",
    "X_train_imp = X_train_tfidf[:, imp_features_idx].todense()\n",
    "print(X_train_imp.shape)\n",
    "X_test_imp = X_test_tfidf[:, imp_features_idx].todense()\n",
    "print(X_test_imp.shape)"
   ]
  },
  {
   "cell_type": "code",
   "execution_count": 6,
   "metadata": {},
   "outputs": [
    {
     "name": "stdout",
     "output_type": "stream",
     "text": [
      "{'C': 1000000}\n"
     ]
    }
   ],
   "source": [
    "# training Logistic Regression on selected features\n",
    "lr_params = {'C':[10**x for x in range(-2, 7)]}\n",
    "log_reg = GridSearchCV(LogisticRegression(class_weight='balanced'), lr_params, scoring='roc_auc', cv=5, return_train_score=True)\n",
    "log_reg.fit(X_train_imp, y_train)\n",
    "print(log_reg.best_params_)"
   ]
  },
  {
   "cell_type": "code",
   "execution_count": 8,
   "metadata": {},
   "outputs": [],
   "source": [
    "best_model_fs = LogisticRegression(C=log_reg.best_params_['C'], class_weight='balanced')\n",
    "best_model_fs.fit(X_train_imp, y_train)\n",
    "\n",
    "y_final_train = best_model_fs.predict_proba(X_train_imp)[:,1]\n",
    "y_final_test = best_model_fs.predict_proba(X_test_imp)[:,1]"
   ]
  },
  {
   "cell_type": "code",
   "execution_count": 9,
   "metadata": {},
   "outputs": [
    {
     "data": {
      "image/png": "[encoded data removed]",
      "text/plain": [
       "<Figure size 432x288 with 1 Axes>"
      ]
     },
     "metadata": {},
     "output_type": "display_data"
    }
   ],
   "source": [
    "fpr1_fs, tpr1_fs, thresholds1_fs = roc_curve(y_train, y_final_train)\n",
    "fpr2_fs, tpr2_fs, thresholds2_fs = roc_curve(y_test, y_final_test)\n",
    "\n",
    "plt.figure()\n",
    "plt.plot(fpr1_fs, tpr1_fs, label='Train AUC:'+str(auc(fpr1_fs,tpr1_fs)))\n",
    "plt.plot(fpr2_fs, tpr2_fs, label='Test AUC:'+str(auc(fpr2_fs,tpr2_fs)))\n",
    "plt.legend()\n",
    "plt.xlabel('FPR')\n",
    "plt.ylabel('TPR')\n",
    "plt.title('Error Plot')\n",
    "plt.show()"
   ]
  },
  {
   "cell_type": "code",
   "execution_count": 10,
   "metadata": {},
   "outputs": [],
   "source": [
    "def find_best_threshold(threshold, fpr, tpr):\n",
    "    t = threshold[np.argmax(tpr*(1-fpr))]\n",
    "    print('The maximum value of tpr*(1-fpr)', max(tpr*(1-fpr)), 'for threshold', np.round(t,3))\n",
    "    return t\n",
    "\n",
    "def predict_with_best_t(proba, threshold):\n",
    "    predictions = []\n",
    "    for i in proba:\n",
    "        if i>=threshold:\n",
    "            predictions.append(1)\n",
    "        else:\n",
    "            predictions.append(0)\n",
    "    return predictions"
   ]
  },
  {
   "cell_type": "code",
   "execution_count": 12,
   "metadata": {},
   "outputs": [
    {
     "name": "stdout",
     "output_type": "stream",
     "text": [
      "The maximum value of tpr*(1-fpr) 0.438747185061532 for threshold 0.488\n",
      "Train confusion matrix:\n",
      "[[ 2009  1034]\n",
      " [ 5688 11269]]\n",
      "Test confusion matrix:\n",
      "[[ 528  233]\n",
      " [1746 2493]]\n"
     ]
    }
   ],
   "source": [
    "best_t = find_best_threshold(thresholds1_fs, fpr1_fs, tpr1_fs)\n",
    "\n",
    "print('Train confusion matrix:')\n",
    "print(confusion_matrix(y_train, predict_with_best_t(y_final_train, best_t)))\n",
    "print('Test confusion matrix:')\n",
    "print(confusion_matrix(y_test, predict_with_best_t(y_final_test, best_t)))"
   ]
  },
  {
   "cell_type": "code",
   "execution_count": 13,
   "metadata": {},
   "outputs": [],
   "source": [
    "# https://stackoverflow.com/questions/61748441/how-to-fix-the-values-displayed-in-a-confusion-matrix-in-exponential-form-to-nor\n",
    "def plotConfusionMatrix(matrix):\n",
    "    ax = plt.subplot()\n",
    "    sns.heatmap(matrix, annot=True, fmt='d', cmap='Blues')\n",
    "    ax.set_xlabel('Predicted')\n",
    "    ax.set_ylabel('True')\n",
    "    ax.set_title('Confusion Matrix')\n",
    "    ax.xaxis.set_ticklabels(['Rejected','Accepted'])\n",
    "    ax.yaxis.set_ticklabels(['Rejected','Accepted'])"
   ]
  },
  {
   "cell_type": "code",
   "execution_count": 14,
   "metadata": {},
   "outputs": [
    {
     "data": {
      "image/png": "[encoded data removed]",
      "text/plain": [
       "<Figure size 432x288 with 2 Axes>"
      ]
     },
     "metadata": {},
     "output_type": "display_data"
    }
   ],
   "source": [
    "train_matrix = confusion_matrix(y_train, predict_with_best_t(y_final_train, best_t))\n",
    "plotConfusionMatrix(train_matrix)"
   ]
  },
  {
   "cell_type": "code",
   "execution_count": 15,
   "metadata": {},
   "outputs": [
    {
     "data": {
      "image/png": "[encoded data removed]",
      "text/plain": [
       "<Figure size 432x288 with 2 Axes>"
      ]
     },
     "metadata": {},
     "output_type": "display_data"
    }
   ],
   "source": [
    "test_matrix = confusion_matrix(y_test, predict_with_best_t(y_final_test, best_t))\n",
    "plotConfusionMatrix(test_matrix)"
   ]
  },
  {
   "cell_type": "code",
   "execution_count": 16,
   "metadata": {},
   "outputs": [
    {
     "name": "stdout",
     "output_type": "stream",
     "text": [
      "+--------------------------------+-----------------+--------------------+\n",
      "|           Vectorizer           | Hyper-Parameter |        AUC         |\n",
      "+--------------------------------+-----------------+--------------------+\n",
      "| Log Reg with Feature Selection |    C: 1000000   | 0.6950753577552041 |\n",
      "+--------------------------------+-----------------+--------------------+\n"
     ]
    }
   ],
   "source": [
    "table = PrettyTable()\n",
    "table.field_names=('Vectorizer', 'Hyper-Parameter', 'AUC')\n",
    "table.add_row(['Log Reg with Feature Selection',str('C: '+str(log_reg.best_params_['C'])), auc(fpr2_fs,tpr2_fs)])\n",
    "print(table)"
   ]
  }
 ],
 "metadata": {
  "kernelspec": {
   "display_name": "Python 3",
   "language": "python",
   "name": "python3"
  },
  "language_info": {
   "codemirror_mode": {
    "name": "ipython",
    "version": 3
   },
   "file_extension": ".py",
   "mimetype": "text/x-python",
   "name": "python",
   "nbconvert_exporter": "python",
   "pygments_lexer": "ipython3",
   "version": "3.6.5"
  }
 },
 "nbformat": 4,
 "nbformat_minor": 2
}
